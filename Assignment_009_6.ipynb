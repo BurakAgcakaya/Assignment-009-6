{
  "nbformat": 4,
  "nbformat_minor": 0,
  "metadata": {
    "colab": {
      "name": "Assignment-009/6.ipynb",
      "provenance": [],
      "collapsed_sections": [],
      "authorship_tag": "ABX9TyNz0hCUf4kl/1Zim+mTO18J",
      "include_colab_link": true
    },
    "kernelspec": {
      "name": "python3",
      "display_name": "Python 3"
    },
    "language_info": {
      "name": "python"
    }
  },
  "cells": [
    {
      "cell_type": "markdown",
      "metadata": {
        "id": "view-in-github",
        "colab_type": "text"
      },
      "source": [
        "<a href=\"https://colab.research.google.com/github/BurakAgcakaya/Assignment-009-6/blob/main/Assignment_009_6.ipynb\" target=\"_parent\"><img src=\"https://colab.research.google.com/assets/colab-badge.svg\" alt=\"Open In Colab\"/></a>"
      ]
    },
    {
      "cell_type": "code",
      "metadata": {
        "colab": {
          "base_uri": "https://localhost:8080/"
        },
        "id": "AV8z83M9k-fL",
        "outputId": "0dcacd8d-e4ae-429a-ab57-e08e6c9ba388"
      },
      "source": [
        "asal=[]\n",
        "sayi1 = int(input(\"please enter the number you want sorted : \"))\n",
        "if sayi1 <= 2:\n",
        "  print(sayi1,\"invalid\")\n",
        "elif sayi1 > 2:\n",
        "  for sayi in range(2,sayi1 ):\n",
        "    if sayi > 1:\n",
        "          for i in range(2,sayi):\n",
        "              if (sayi % i) == 0:\n",
        "                  break\n",
        "          else:\n",
        "              asal.append(sayi)\n",
        "print(asal)"
      ],
      "execution_count": 30,
      "outputs": [
        {
          "output_type": "stream",
          "text": [
            "please enter the number you want sorted : 100\n",
            "[2, 3, 5, 7, 11, 13, 17, 19, 23, 29, 31, 37, 41, 43, 47, 53, 59, 61, 67, 71, 73, 79, 83, 89, 97]\n"
          ],
          "name": "stdout"
        }
      ]
    },
    {
      "cell_type": "code",
      "metadata": {
        "id": "1fDJzG6FoWpO"
      },
      "source": [
        ""
      ],
      "execution_count": null,
      "outputs": []
    }
  ]
}